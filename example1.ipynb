{
 "metadata": {
  "name": ""
 },
 "nbformat": 3,
 "nbformat_minor": 0,
 "worksheets": [
  {
   "cells": [
    {
     "cell_type": "markdown",
     "metadata": {},
     "source": [
      "#### 1. Visit our [base.html](https://github.com/sijanonly/angularjs-handson/blob/master/base.html) file."
     ]
    },
    {
     "cell_type": "markdown",
     "metadata": {},
     "source": [
      "#### 2. Let us include following .css and .js files in our base file. NOTE : I have used the   [CDN for bootstrap](https://www.bootstrapcdn.com/).\n"
     ]
    },
    {
     "cell_type": "markdown",
     "metadata": {},
     "source": [
      "\n",
      "   1. `<link rel=\"stylesheet\" href=\"https://maxcdn.bootstrapcdn.com/bootstrap/3.3.6/css/bootstrap.min.css\" integrity=\"sha384-1q8mTJOASx8j1Au+a5WDVnPi2lkFfwwEAa8hDDdjZlpLegxhjVME1fgjWPGmkzs7\" crossorigin=\"anonymous\"> `\n",
      "   2. `<script src=\"https://ajax.googleapis.com/ajax/libs/angularjs/1.4.5/angular.min.js\"></script> `\n",
      "\n"
     ]
    },
    {
     "cell_type": "markdown",
     "metadata": {},
     "source": [
      "#### 3. Next we configure our web page to be an Angular application.\n",
      "##### Include  ng-app angular directive to `<html>` tag. i.e ` <html lang=\"en\" ng-app>`\n"
     ]
    },
    {
     "cell_type": "markdown",
     "metadata": {},
     "source": [
      "#### 4. Now, let us initialize data for our application with `ng-init` as follow :\n",
      "#### \n",
      "<div class=\"row\"\n",
      "                      ng-init=\"\n",
      "                         dish=\n",
      "                         {\n",
      "                           name:'Uthapizza',\n",
      "                           image: 'images/uthapizza.png',\n",
      "                           category: 'mains',\n",
      "                           label:'Hot', \n",
      "                           price:'4.99',\n",
      "                           description:'A unique combination of Indian Uthappam (pancake) and Italian pizza, topped with Cerignola olives, ripe vine cherry tomatoes, Vidalia onion, Guntur chillies and Buffalo Paneer.',\n",
      "                           comment: ''\n",
      "                        }\">"
     ]
    }
   ],
   "metadata": {}
  }
 ]
}