{
 "metadata": {
  "name": ""
 },
 "nbformat": 3,
 "nbformat_minor": 0,
 "worksheets": [
  {
   "cells": [
    {
     "cell_type": "markdown",
     "metadata": {},
     "source": [
      "#### 1. Visit our [base.html](https://github.com/sijanonly/angularjs-handson/blob/master/base.html) file."
     ]
    },
    {
     "cell_type": "markdown",
     "metadata": {},
     "source": [
      "#### 2. Let us include following .css and .js files in our base file. NOTE : I have used the   [CDN for bootstrap](https://www.bootstrapcdn.com/).\n"
     ]
    },
    {
     "cell_type": "markdown",
     "metadata": {},
     "source": [
      "\n",
      "   1. `<link rel=\"stylesheet\" href=\"https://maxcdn.bootstrapcdn.com/bootstrap/3.3.6/css/bootstrap.min.css\" integrity=\"sha384-1q8mTJOASx8j1Au+a5WDVnPi2lkFfwwEAa8hDDdjZlpLegxhjVME1fgjWPGmkzs7\" crossorigin=\"anonymous\"> `\n",
      "   2. `<script src=\"https://ajax.googleapis.com/ajax/libs/angularjs/1.4.5/angular.min.js\"></script> `\n",
      "\n"
     ]
    },
    {
     "cell_type": "markdown",
     "metadata": {},
     "source": [
      "#### 3. Next we configure our web page to be an Angular application.\n",
      "##### Include  ng-app angular directive to `<html>` tag. i.e ` <html lang=\"en\" ng-app>`\n"
     ]
    },
    {
     "cell_type": "markdown",
     "metadata": {},
     "source": [
      "#### 4. Now, let us initialize data for our application with `ng-init` as follow :"
     ]
    },
    {
     "cell_type": "code",
     "collapsed": false,
     "input": [
      "\n",
      "\n",
      "     <div class=\"row row-content\"\n",
      "                      ng-init=\"\n",
      "                         star=\n",
      "                         {\n",
      "                           name:'Angelina Jolie',\n",
      "                           image: 'images/angelina.jpg',\n",
      "                           dob: 'June 4, 1975',\n",
      "                           \n",
      "                           description:'Born in Los Angeles, California, on June 4, 1975, Angelina Jolie starred in the HBO biopic Gia before earning an Academy Award for best supporting actress for Girl, Interrupted. Jolie has become one of Hollywood top marquee names, having starred in movies like Wanted, Mr. and Mrs. Smith, Salt and Changeling, earning her first lead actress Oscar nod for the latter.',\n",
      "                           comment: ''\n",
      "                        }\">\n"
     ],
     "language": "python",
     "metadata": {},
     "outputs": []
    },
    {
     "cell_type": "code",
     "collapsed": false,
     "input": [],
     "language": "python",
     "metadata": {},
     "outputs": []
    }
   ],
   "metadata": {}
  }
 ]
}